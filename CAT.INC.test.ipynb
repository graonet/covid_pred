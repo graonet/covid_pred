{
 "cells": [
  {
   "cell_type": "code",
   "execution_count": 1,
   "metadata": {
    "scrolled": true
   },
   "outputs": [],
   "source": [
    "import tensorflow as tf\n",
    "from tensorflow import keras\n",
    "from tensorflow.keras import layers"
   ]
  },
  {
   "cell_type": "code",
   "execution_count": 2,
   "metadata": {},
   "outputs": [],
   "source": [
    "import os\n",
    "import time\n",
    "import requests\n",
    "import pandas as pd\n",
    "import numpy as np\n",
    "import matplotlib.pyplot as plt"
   ]
  },
  {
   "cell_type": "code",
   "execution_count": 3,
   "metadata": {},
   "outputs": [],
   "source": [
    "from sklearn.preprocessing import MinMaxScaler, StandardScaler"
   ]
  },
  {
   "cell_type": "code",
   "execution_count": 4,
   "metadata": {},
   "outputs": [],
   "source": [
    "# convert series to supervised learning\n",
    "def series_to_supervised(data, n_in=1, n_out=1, dropnan=True):\n",
    "    n_vars = 1 if type(data) is list else data.shape[1]\n",
    "    df = pd.DataFrame(data)\n",
    "    cols, names = list(), list()\n",
    "    \n",
    "    # input sequence (t-n, ... t-1)\n",
    "    for i in range(n_in, 0, -1):\n",
    "        cols.append(df.shift(i))\n",
    "        names += [('var%d(t-%d)' % (j+1, i)) for j in range(n_vars)]\n",
    "        \n",
    "    # forecast sequence (t, t+1, ... t+n)\n",
    "    for i in range(0, n_out):\n",
    "        cols.append(df.shift(-i))\n",
    "        if i == 0:\n",
    "            names += [('var%d(t)' % (j+1)) for j in range(n_vars)]\n",
    "        else:\n",
    "            names += [('var%d(t+%d)' % (j+1, i)) for j in range(n_vars)]\n",
    "            \n",
    "    # put it all together\n",
    "    agg = pd.concat(cols, axis=1)\n",
    "    agg.columns = names\n",
    "    # drop rows with NaN values\n",
    "    if dropnan:\n",
    "        agg.dropna(inplace=True)\n",
    "        \n",
    "    return agg"
   ]
  },
  {
   "cell_type": "code",
   "execution_count": 5,
   "metadata": {},
   "outputs": [
    {
     "name": "stdout",
     "output_type": "stream",
     "text": [
      "2021-06-25\n"
     ]
    }
   ],
   "source": [
    "from datetime import datetime\n",
    "today = datetime.today().strftime('%Y-%m-%d')\n",
    "print(today)"
   ]
  },
  {
   "cell_type": "code",
   "execution_count": 6,
   "metadata": {},
   "outputs": [
    {
     "name": "stdout",
     "output_type": "stream",
     "text": [
      "mkdir: data_flow: File exists\r\n"
     ]
    }
   ],
   "source": [
    "!mkdir data_flow"
   ]
  },
  {
   "cell_type": "code",
   "execution_count": 7,
   "metadata": {},
   "outputs": [],
   "source": [
    "#Flow"
   ]
  },
  {
   "cell_type": "code",
   "execution_count": 8,
   "metadata": {},
   "outputs": [],
   "source": [
    "#https://flowmaps.life.bsc.es/flowboard/static/js/mobility.js\n",
    "province_id_to_name = {'17': 'Girona', '43': 'Tarragona','08': 'Barcelona', '25': 'Lleida'}"
   ]
  },
  {
   "cell_type": "code",
   "execution_count": 9,
   "metadata": {},
   "outputs": [],
   "source": [
    "#FLOW-Maps end-points\n",
    "\n",
    "URL_IN_CCAA = \"https://flowmaps.life.bsc.es/api/total_incoming_daily_mobility\"\n",
    "URL_OUT_CCAA = \"https://flowmaps.life.bsc.es/api/total_outgoing_daily_mobility\" \n",
    "\n",
    "INCID_CAT = \"https://flowmaps.life.bsc.es/api/incidence\"\n",
    "        \n",
    "URL_RISK_CCAA = \"https://flowmaps.life.bsc.es/api/incoming_risk_history/\""
   ]
  },
  {
   "cell_type": "code",
   "execution_count": 10,
   "metadata": {},
   "outputs": [],
   "source": [
    "#Load data"
   ]
  },
  {
   "cell_type": "code",
   "execution_count": 11,
   "metadata": {},
   "outputs": [
    {
     "name": "stdout",
     "output_type": "stream",
     "text": [
      "https://flowmaps.life.bsc.es/api/incidence?where=%7B%22ev%22%3A%22ES.covid_cpro%22%2C%22start_date%22%3A%222020-01-01%22%2C%22end_date%22%3A%222021-06-25%22%7D\n"
     ]
    }
   ],
   "source": [
    "payload = {\"where\":\"{\\\"ev\\\":\\\"ES.covid_cpro\\\",\\\"start_date\\\":\\\"2020-01-01\\\",\\\"end_date\\\":\\\"\" + today + \"\\\"}\"}\n",
    "response = requests.get(INCID_CAT, params=payload, verify = 'flowmaps-life-bsc-es-chain.pem')\n",
    "print(response.url)\n",
    "\n",
    "#dfCases[\"date\"] = pd.to_datetime(dfCases[\"date\"])\n",
    "#dfCases.to_csv(\"data_flow/cases.csv\",index=False)"
   ]
  },
  {
   "cell_type": "code",
   "execution_count": 12,
   "metadata": {
    "scrolled": true
   },
   "outputs": [
    {
     "name": "stdout",
     "output_type": "stream",
     "text": [
      "540\n",
      "540\n"
     ]
    }
   ],
   "source": [
    "print(len(response.json()[\"_items\"]))\n",
    "\n",
    "dfCases = []\n",
    "for i,row in enumerate(response.json()[\"_items\"]):\n",
    "    date = row.get(\"_id\")\n",
    "    \n",
    "    dfDaily = pd.DataFrame(row.get(\"data\"))\n",
    "\n",
    "    dfRow = pd.DataFrame(np.array([date, \n",
    "     dfDaily.loc[dfDaily[\"id\"]==\"08\"][\"new_cases\"].values[0], \n",
    "     dfDaily.loc[dfDaily[\"id\"]==\"17\"][\"new_cases\"].values[0],\n",
    "     dfDaily.loc[dfDaily[\"id\"]==\"43\"][\"new_cases\"].values[0],\n",
    "     dfDaily.loc[dfDaily[\"id\"]==\"25\"][\"new_cases\"].values[0],\n",
    "    ]).reshape(1,5), columns=[\"date\",\"new_cases_BCN\",\"new_cases_GI\",\"new_cases_TAR\",\"new_cases_LLE\"])\n",
    "    dfCases.append(dfRow)\n",
    "\n",
    "dfCases = pd.concat(dfCases)\n",
    "print(len(dfCases))"
   ]
  },
  {
   "cell_type": "code",
   "execution_count": 13,
   "metadata": {
    "scrolled": true
   },
   "outputs": [],
   "source": [
    "dfCases[\"date\"] = pd.to_datetime(dfCases[\"date\"])\n",
    "dfCases.sort_values(\"date\",ascending=True, inplace=True)\n",
    "\n",
    "dfCases.to_csv(\"data_flow/cases_CAT_\" + today + \".csv\",index=False)"
   ]
  },
  {
   "cell_type": "code",
   "execution_count": 14,
   "metadata": {},
   "outputs": [],
   "source": [
    "#Gest risk data (Sometimes fails, repeat until it works!)"
   ]
  },
  {
   "cell_type": "code",
   "execution_count": 17,
   "metadata": {
    "scrolled": true
   },
   "outputs": [
    {
     "name": "stdout",
     "output_type": "stream",
     "text": [
      "https://flowmaps.life.bsc.es/api/incoming_risk_history/?where=%7B%22target%22%3A%2217%22%2C%22source_layer%22%3A%22cnig_provincias%22%2C%22target_layer%22%3A%22cnig_provincias%22%2C%22ev%22%3A%22ES.covid_cpro%22%2C%22total%22%3Atrue%7D\n"
     ]
    },
    {
     "ename": "JSONDecodeError",
     "evalue": "Expecting value: line 1 column 1 (char 0)",
     "output_type": "error",
     "traceback": [
      "\u001b[0;31m---------------------------------------------------------------------------\u001b[0m",
      "\u001b[0;31mJSONDecodeError\u001b[0m                           Traceback (most recent call last)",
      "\u001b[0;32m<ipython-input-17-f88189e3ce0c>\u001b[0m in \u001b[0;36m<module>\u001b[0;34m\u001b[0m\n\u001b[1;32m      4\u001b[0m     \u001b[0mresponse\u001b[0m \u001b[0;34m=\u001b[0m \u001b[0mrequests\u001b[0m\u001b[0;34m.\u001b[0m\u001b[0mget\u001b[0m\u001b[0;34m(\u001b[0m\u001b[0mURL_RISK_CCAA\u001b[0m\u001b[0;34m,\u001b[0m \u001b[0mparams\u001b[0m\u001b[0;34m=\u001b[0m\u001b[0mpayload\u001b[0m\u001b[0;34m,\u001b[0m \u001b[0mverify\u001b[0m \u001b[0;34m=\u001b[0m \u001b[0;34m'flowmaps-life-bsc-es-chain.pem'\u001b[0m\u001b[0;34m)\u001b[0m\u001b[0;34m\u001b[0m\u001b[0;34m\u001b[0m\u001b[0m\n\u001b[1;32m      5\u001b[0m     \u001b[0mprint\u001b[0m\u001b[0;34m(\u001b[0m\u001b[0mresponse\u001b[0m\u001b[0;34m.\u001b[0m\u001b[0murl\u001b[0m\u001b[0;34m)\u001b[0m\u001b[0;34m\u001b[0m\u001b[0;34m\u001b[0m\u001b[0m\n\u001b[0;32m----> 6\u001b[0;31m     \u001b[0mdf\u001b[0m \u001b[0;34m=\u001b[0m \u001b[0mpd\u001b[0m\u001b[0;34m.\u001b[0m\u001b[0mDataFrame\u001b[0m\u001b[0;34m(\u001b[0m\u001b[0mresponse\u001b[0m\u001b[0;34m.\u001b[0m\u001b[0mjson\u001b[0m\u001b[0;34m(\u001b[0m\u001b[0;34m)\u001b[0m\u001b[0;34m[\u001b[0m\u001b[0;34m\"_items\"\u001b[0m\u001b[0;34m]\u001b[0m\u001b[0;34m)\u001b[0m\u001b[0;34m\u001b[0m\u001b[0;34m\u001b[0m\u001b[0m\n\u001b[0m\u001b[1;32m      7\u001b[0m     \u001b[0mprint\u001b[0m\u001b[0;34m(\u001b[0m\u001b[0;34m\"CCAA:\"\u001b[0m\u001b[0;34m,\u001b[0m \u001b[0mval\u001b[0m\u001b[0;34m,\u001b[0m\u001b[0mdf\u001b[0m\u001b[0;34m.\u001b[0m\u001b[0mshape\u001b[0m\u001b[0;34m)\u001b[0m\u001b[0;34m\u001b[0m\u001b[0;34m\u001b[0m\u001b[0m\n\u001b[1;32m      8\u001b[0m \u001b[0;34m\u001b[0m\u001b[0m\n",
      "\u001b[0;32m~/opt/anaconda3/lib/python3.8/site-packages/requests/models.py\u001b[0m in \u001b[0;36mjson\u001b[0;34m(self, **kwargs)\u001b[0m\n\u001b[1;32m    898\u001b[0m                     \u001b[0;31m# used.\u001b[0m\u001b[0;34m\u001b[0m\u001b[0;34m\u001b[0m\u001b[0;34m\u001b[0m\u001b[0m\n\u001b[1;32m    899\u001b[0m                     \u001b[0;32mpass\u001b[0m\u001b[0;34m\u001b[0m\u001b[0;34m\u001b[0m\u001b[0m\n\u001b[0;32m--> 900\u001b[0;31m         \u001b[0;32mreturn\u001b[0m \u001b[0mcomplexjson\u001b[0m\u001b[0;34m.\u001b[0m\u001b[0mloads\u001b[0m\u001b[0;34m(\u001b[0m\u001b[0mself\u001b[0m\u001b[0;34m.\u001b[0m\u001b[0mtext\u001b[0m\u001b[0;34m,\u001b[0m \u001b[0;34m**\u001b[0m\u001b[0mkwargs\u001b[0m\u001b[0;34m)\u001b[0m\u001b[0;34m\u001b[0m\u001b[0;34m\u001b[0m\u001b[0m\n\u001b[0m\u001b[1;32m    901\u001b[0m \u001b[0;34m\u001b[0m\u001b[0m\n\u001b[1;32m    902\u001b[0m     \u001b[0;34m@\u001b[0m\u001b[0mproperty\u001b[0m\u001b[0;34m\u001b[0m\u001b[0;34m\u001b[0m\u001b[0m\n",
      "\u001b[0;32m~/opt/anaconda3/lib/python3.8/json/__init__.py\u001b[0m in \u001b[0;36mloads\u001b[0;34m(s, cls, object_hook, parse_float, parse_int, parse_constant, object_pairs_hook, **kw)\u001b[0m\n\u001b[1;32m    355\u001b[0m             \u001b[0mparse_int\u001b[0m \u001b[0;32mis\u001b[0m \u001b[0;32mNone\u001b[0m \u001b[0;32mand\u001b[0m \u001b[0mparse_float\u001b[0m \u001b[0;32mis\u001b[0m \u001b[0;32mNone\u001b[0m \u001b[0;32mand\u001b[0m\u001b[0;34m\u001b[0m\u001b[0;34m\u001b[0m\u001b[0m\n\u001b[1;32m    356\u001b[0m             parse_constant is None and object_pairs_hook is None and not kw):\n\u001b[0;32m--> 357\u001b[0;31m         \u001b[0;32mreturn\u001b[0m \u001b[0m_default_decoder\u001b[0m\u001b[0;34m.\u001b[0m\u001b[0mdecode\u001b[0m\u001b[0;34m(\u001b[0m\u001b[0ms\u001b[0m\u001b[0;34m)\u001b[0m\u001b[0;34m\u001b[0m\u001b[0;34m\u001b[0m\u001b[0m\n\u001b[0m\u001b[1;32m    358\u001b[0m     \u001b[0;32mif\u001b[0m \u001b[0mcls\u001b[0m \u001b[0;32mis\u001b[0m \u001b[0;32mNone\u001b[0m\u001b[0;34m:\u001b[0m\u001b[0;34m\u001b[0m\u001b[0;34m\u001b[0m\u001b[0m\n\u001b[1;32m    359\u001b[0m         \u001b[0mcls\u001b[0m \u001b[0;34m=\u001b[0m \u001b[0mJSONDecoder\u001b[0m\u001b[0;34m\u001b[0m\u001b[0;34m\u001b[0m\u001b[0m\n",
      "\u001b[0;32m~/opt/anaconda3/lib/python3.8/json/decoder.py\u001b[0m in \u001b[0;36mdecode\u001b[0;34m(self, s, _w)\u001b[0m\n\u001b[1;32m    335\u001b[0m \u001b[0;34m\u001b[0m\u001b[0m\n\u001b[1;32m    336\u001b[0m         \"\"\"\n\u001b[0;32m--> 337\u001b[0;31m         \u001b[0mobj\u001b[0m\u001b[0;34m,\u001b[0m \u001b[0mend\u001b[0m \u001b[0;34m=\u001b[0m \u001b[0mself\u001b[0m\u001b[0;34m.\u001b[0m\u001b[0mraw_decode\u001b[0m\u001b[0;34m(\u001b[0m\u001b[0ms\u001b[0m\u001b[0;34m,\u001b[0m \u001b[0midx\u001b[0m\u001b[0;34m=\u001b[0m\u001b[0m_w\u001b[0m\u001b[0;34m(\u001b[0m\u001b[0ms\u001b[0m\u001b[0;34m,\u001b[0m \u001b[0;36m0\u001b[0m\u001b[0;34m)\u001b[0m\u001b[0;34m.\u001b[0m\u001b[0mend\u001b[0m\u001b[0;34m(\u001b[0m\u001b[0;34m)\u001b[0m\u001b[0;34m)\u001b[0m\u001b[0;34m\u001b[0m\u001b[0;34m\u001b[0m\u001b[0m\n\u001b[0m\u001b[1;32m    338\u001b[0m         \u001b[0mend\u001b[0m \u001b[0;34m=\u001b[0m \u001b[0m_w\u001b[0m\u001b[0;34m(\u001b[0m\u001b[0ms\u001b[0m\u001b[0;34m,\u001b[0m \u001b[0mend\u001b[0m\u001b[0;34m)\u001b[0m\u001b[0;34m.\u001b[0m\u001b[0mend\u001b[0m\u001b[0;34m(\u001b[0m\u001b[0;34m)\u001b[0m\u001b[0;34m\u001b[0m\u001b[0;34m\u001b[0m\u001b[0m\n\u001b[1;32m    339\u001b[0m         \u001b[0;32mif\u001b[0m \u001b[0mend\u001b[0m \u001b[0;34m!=\u001b[0m \u001b[0mlen\u001b[0m\u001b[0;34m(\u001b[0m\u001b[0ms\u001b[0m\u001b[0;34m)\u001b[0m\u001b[0;34m:\u001b[0m\u001b[0;34m\u001b[0m\u001b[0;34m\u001b[0m\u001b[0m\n",
      "\u001b[0;32m~/opt/anaconda3/lib/python3.8/json/decoder.py\u001b[0m in \u001b[0;36mraw_decode\u001b[0;34m(self, s, idx)\u001b[0m\n\u001b[1;32m    353\u001b[0m             \u001b[0mobj\u001b[0m\u001b[0;34m,\u001b[0m \u001b[0mend\u001b[0m \u001b[0;34m=\u001b[0m \u001b[0mself\u001b[0m\u001b[0;34m.\u001b[0m\u001b[0mscan_once\u001b[0m\u001b[0;34m(\u001b[0m\u001b[0ms\u001b[0m\u001b[0;34m,\u001b[0m \u001b[0midx\u001b[0m\u001b[0;34m)\u001b[0m\u001b[0;34m\u001b[0m\u001b[0;34m\u001b[0m\u001b[0m\n\u001b[1;32m    354\u001b[0m         \u001b[0;32mexcept\u001b[0m \u001b[0mStopIteration\u001b[0m \u001b[0;32mas\u001b[0m \u001b[0merr\u001b[0m\u001b[0;34m:\u001b[0m\u001b[0;34m\u001b[0m\u001b[0;34m\u001b[0m\u001b[0m\n\u001b[0;32m--> 355\u001b[0;31m             \u001b[0;32mraise\u001b[0m \u001b[0mJSONDecodeError\u001b[0m\u001b[0;34m(\u001b[0m\u001b[0;34m\"Expecting value\"\u001b[0m\u001b[0;34m,\u001b[0m \u001b[0ms\u001b[0m\u001b[0;34m,\u001b[0m \u001b[0merr\u001b[0m\u001b[0;34m.\u001b[0m\u001b[0mvalue\u001b[0m\u001b[0;34m)\u001b[0m \u001b[0;32mfrom\u001b[0m \u001b[0;32mNone\u001b[0m\u001b[0;34m\u001b[0m\u001b[0;34m\u001b[0m\u001b[0m\n\u001b[0m\u001b[1;32m    356\u001b[0m         \u001b[0;32mreturn\u001b[0m \u001b[0mobj\u001b[0m\u001b[0;34m,\u001b[0m \u001b[0mend\u001b[0m\u001b[0;34m\u001b[0m\u001b[0;34m\u001b[0m\u001b[0m\n",
      "\u001b[0;31mJSONDecodeError\u001b[0m: Expecting value: line 1 column 1 (char 0)"
     ]
    }
   ],
   "source": [
    "dfInRisk=[]\n",
    "for j,val in enumerate(province_id_to_name.keys()):\n",
    "    payload = {\"where\":\"{\\\"target\\\":\\\"\" + val + \"\\\",\\\"source_layer\\\":\\\"cnig_provincias\\\",\\\"target_layer\\\":\\\"cnig_provincias\\\",\\\"ev\\\":\\\"ES.covid_cpro\\\",\\\"total\\\":true}\"}\n",
    "    response = requests.get(URL_RISK_CCAA, params=payload, verify = 'flowmaps-life-bsc-es-chain.pem')\n",
    "    print(response.url)\n",
    "    df = pd.DataFrame(response.json()[\"_items\"])\n",
    "    print(\"CCAA:\", val,df.shape)\n",
    "    \n",
    "    if len(dfInRisk) == 0:\n",
    "        dfInRisk = df\n",
    "        dfInRisk[\"inrisk_\"+val] = dfInRisk[\"incoming_risk\"]\n",
    "        dfInRisk.date = pd.to_datetime(dfInRisk.date)\n",
    "        dfInRisk = dfInRisk[[\"date\",\"inrisk_\"+val]]\n",
    "    else:\n",
    "        df[\"inrisk_\"+val] = df[\"incoming_risk\"]\n",
    "        df.date = pd.to_datetime(df.date)\n",
    "        df = df[[\"date\",\"inrisk_\"+val]]\n",
    "        dfInRisk = pd.merge(dfInRisk,df,on=\"date\",suffixes=('',''))#,left_index=False,right_index=False) \n",
    "\n",
    "#Save\n",
    "dfInRisk.to_csv(\"data_flow/inrisk_CAT_\"+ today +\".csv\",index=False)"
   ]
  },
  {
   "cell_type": "code",
   "execution_count": 16,
   "metadata": {},
   "outputs": [],
   "source": [
    "#LOAD"
   ]
  },
  {
   "cell_type": "code",
   "execution_count": 17,
   "metadata": {
    "scrolled": true
   },
   "outputs": [
    {
     "name": "stdout",
     "output_type": "stream",
     "text": [
      "(398, 5)\n",
      "Index(['date', 'risk_BCN', 'risk_GI', 'risk_LLE', 'risk_TAR'], dtype='object')\n",
      "393   2021-03-15\n",
      "394   2021-03-16\n",
      "395   2021-03-17\n",
      "396   2021-03-18\n",
      "397   2021-03-19\n",
      "Name: date, dtype: datetime64[ns]\n"
     ]
    }
   ],
   "source": [
    "dfInRisk = pd.read_csv(\"data_flow/inrisk_CAT_\" + today + \".csv\")\n",
    "\n",
    "for i,col in enumerate(dfInRisk.columns):\n",
    "    if i==0:\n",
    "        dfInRisk[col] = pd.to_datetime(dfInRisk[col])\n",
    "    else:\n",
    "        dfInRisk[col] = pd.to_numeric(dfInRisk[col])\n",
    "\n",
    "dfInRisk.sort_values(\"date\",ascending=True, inplace=True)\n",
    "dfInRisk[\"risk_BCN\"] = dfInRisk[\"inrisk_08\"]\n",
    "dfInRisk[\"risk_GI\"] = dfInRisk[\"inrisk_17\"]\n",
    "dfInRisk[\"risk_TAR\"] = dfInRisk[\"inrisk_43\"]\n",
    "dfInRisk[\"risk_LLE\"] = dfInRisk[\"inrisk_25\"]\n",
    "dfInRisk = dfInRisk[[\"date\",\"risk_BCN\",\"risk_GI\",\"risk_LLE\",\"risk_TAR\"]]\n",
    "\n",
    "print(dfInRisk.shape)\n",
    "print(dfInRisk.columns)\n",
    "print(dfInRisk[\"date\"].iloc[-5:])"
   ]
  },
  {
   "cell_type": "code",
   "execution_count": null,
   "metadata": {},
   "outputs": [],
   "source": [
    "dfInRisk.iloc[:,1:].plot(figsize=(15,4))\n",
    "plt.show()"
   ]
  },
  {
   "cell_type": "code",
   "execution_count": null,
   "metadata": {
    "scrolled": true
   },
   "outputs": [],
   "source": [
    "# calculate cases by computing the mean of the last 7 days reported cases\n",
    "cols = dfInRisk.columns\n",
    "print(cols)\n",
    "for k in range(1,len(cols)):\n",
    "    zn = []\n",
    "    for i in range(dfInRisk.shape[0]):\n",
    "        acc = 0\n",
    "        for j in range(7):\n",
    "            if i-j>=0:\n",
    "                acc += dfInRisk.iloc[i-j,k]\n",
    "        zn.append(acc/7)\n",
    "\n",
    "    dfInRisk[cols[k] + \"_7\"] = zn\n",
    "    \n",
    "    #plot\n",
    "    #plt.figure(figsize=(10,4))    \n",
    "    #ax = plt.subplot(1,2,1)\n",
    "    #dfInRisk[[\"mean\"]].plot(ax=ax)\n",
    "    #ax = plt.subplot(1,2,2)\n",
    "    #dfInRisk[[\"mean_7\"]].plot(ax=ax)    \n",
    "    #plt.show()\n",
    "    #break\n",
    "    \n",
    "dfInRisk = dfInRisk[[\"date\",\"risk_BCN_7\",\"risk_GI_7\",\"risk_LLE_7\",\"risk_TAR_7\"]]\n",
    "dfInRisk"
   ]
  },
  {
   "cell_type": "code",
   "execution_count": null,
   "metadata": {},
   "outputs": [],
   "source": [
    "dfInRisk.iloc[:,1:].plot(figsize=(15,4))\n",
    "plt.show()"
   ]
  },
  {
   "cell_type": "code",
   "execution_count": null,
   "metadata": {},
   "outputs": [],
   "source": [
    "#Incidence"
   ]
  },
  {
   "cell_type": "code",
   "execution_count": null,
   "metadata": {
    "scrolled": true
   },
   "outputs": [],
   "source": [
    "dfCases = pd.read_csv(\"data_flow/cases_CAT_\" + today + \".csv\")\n",
    "dfCases[\"date\"] = pd.to_datetime(dfCases[\"date\"])\n",
    "dfCases.sort_values(\"date\",ascending=True, inplace=True)\n",
    "\n",
    "#Aggregate\n",
    "dfCases[\"new_cases\"] = np.nansum(dfCases[['new_cases_BCN', 'new_cases_GI', 'new_cases_TAR']],axis=1)\n",
    "dfCases = dfCases[[\"date\",\"new_cases\",\"new_cases_BCN\",\"new_cases_GI\",\"new_cases_TAR\",\"new_cases_LLE\"]]\n",
    "dfCases[\"total_cases\"] = np.cumsum(dfCases[\"new_cases\"].values)\n",
    "print(dfCases.shape,dfCases.columns)"
   ]
  },
  {
   "cell_type": "code",
   "execution_count": null,
   "metadata": {},
   "outputs": [],
   "source": [
    "dfCases.iloc[:,2:-1].plot(figsize=(15,4))\n",
    "plt.show()"
   ]
  },
  {
   "cell_type": "code",
   "execution_count": null,
   "metadata": {
    "scrolled": true
   },
   "outputs": [],
   "source": [
    "cols = dfCases.columns\n",
    "for k in range(1,len(cols)):\n",
    "    zn = []\n",
    "    for i in range(dfCases.shape[0]):\n",
    "        acc = 0\n",
    "        for j in range(7):\n",
    "            if i-j>=0:\n",
    "                acc += dfCases.iloc[i-j,k]\n",
    "        zn.append(acc/7)\n",
    "\n",
    "    dfCases[cols[k] + \"_7\"] = zn\n",
    "\n",
    "dfCases"
   ]
  },
  {
   "cell_type": "code",
   "execution_count": null,
   "metadata": {},
   "outputs": [],
   "source": [
    "dfCases[[\"new_cases_BCN_7\",\"new_cases_GI_7\",\"new_cases_TAR_7\",\"new_cases_LLE_7\"]].plot(figsize=(15,4))\n",
    "plt.show()"
   ]
  },
  {
   "cell_type": "code",
   "execution_count": null,
   "metadata": {},
   "outputs": [],
   "source": [
    "#Merge cases\n",
    "dfAll = pd.merge(dfCases[[\"date\",\"new_cases\",\"total_cases\",\"new_cases_7\",\n",
    "                         \"new_cases_GI_7\",\"new_cases_LLE_7\",\"new_cases_BCN_7\",\"new_cases_TAR_7\"]],\n",
    "                 dfInRisk[[\"date\",\"risk_BCN_7\",\"risk_GI_7\",\"risk_LLE_7\",\"risk_TAR_7\"]], \n",
    "                 how=\"left\",on=\"date\")\n",
    "dfAll[\"date\"] = pd.to_datetime(dfAll[\"date\"])\n",
    "\n",
    "#Na inputation\n",
    "#dfAll.interpolate(method='linear', limit_direction='forward', axis=0, inplace=True, order=2)\n",
    "\n",
    "\n",
    "print(dfAll.shape)\n",
    "print(dfAll.isnull().sum())\n",
    "dfAll.tail()"
   ]
  },
  {
   "cell_type": "code",
   "execution_count": null,
   "metadata": {},
   "outputs": [],
   "source": [
    "#Remove days without mobility index \n",
    "dfAll = dfAll.iloc[46:]\n",
    "\n",
    "#Remove last day \n",
    "dfAll = dfAll.iloc[:-3]\n",
    "\n",
    "print(dfAll.shape)\n",
    "print(dfAll.isnull().sum())\n",
    "dfAll.tail()"
   ]
  },
  {
   "cell_type": "code",
   "execution_count": null,
   "metadata": {},
   "outputs": [],
   "source": [
    "#Na inputation\n",
    "dfAll.interpolate(method='linear', limit_direction='forward', axis=0, inplace=True, order=2)\n",
    "print(dfAll.isnull().sum())\n",
    "dfAll.tail(10)"
   ]
  },
  {
   "cell_type": "code",
   "execution_count": null,
   "metadata": {},
   "outputs": [],
   "source": [
    "#Convert data to format (rows,timepoints,features)\n",
    "cols = [\n",
    "         'new_cases',\n",
    "         'new_cases_7',\n",
    "         'new_cases_GI_7',\n",
    "         'new_cases_TAR_7',\n",
    "         'new_cases_BCN_7',\n",
    "         'new_cases_LLE_7',    \n",
    "         'risk_BCN_7',\n",
    "         'risk_GI_7',\n",
    "         'risk_LLE_7',\n",
    "         'risk_TAR_7'\n",
    "]"
   ]
  },
  {
   "cell_type": "code",
   "execution_count": null,
   "metadata": {},
   "outputs": [],
   "source": [
    "#Forecasting future!!"
   ]
  },
  {
   "cell_type": "code",
   "execution_count": null,
   "metadata": {},
   "outputs": [],
   "source": [
    "res_test = series_to_supervised(dfAll.loc[:,cols].values,21,21,dropnan=False)\n",
    "print(cols)\n",
    "res_test.shape"
   ]
  },
  {
   "cell_type": "code",
   "execution_count": null,
   "metadata": {},
   "outputs": [],
   "source": [
    "#Find rows for future pred\n",
    "ftest_X = res_test.iloc[-1,:210].values.reshape(-1,21,10)\n",
    "ftest_y = res_test.iloc[-1,[210+(10*i) for i in range(21)]].values.reshape(-1,21)\n",
    "print(ftest_X.shape, ftest_y.shape)\n",
    "print(ftest_y[0,:])"
   ]
  },
  {
   "cell_type": "code",
   "execution_count": null,
   "metadata": {},
   "outputs": [],
   "source": [
    "fname = \"best_model_flow_provs_CAT_21ahead_1_04022021\""
   ]
  },
  {
   "cell_type": "code",
   "execution_count": null,
   "metadata": {},
   "outputs": [],
   "source": [
    "from pickle import load\n",
    "\n",
    "# normalize features\n",
    "for i in range(ftest_X.shape[-1]):\n",
    "\n",
    "    # normalize features\n",
    "    scalers_X = load(open(\"models/\"+ fname + \"_scaler_tr_X_\" + str(i)+'.pkl', 'rb'))\n",
    "\n",
    "    ftest_X[:,:,i] = scalers_X.transform(ftest_X[:,:,i])\n",
    "\n",
    "print(ftest_X.shape)\n",
    "print(np.nanmax(ftest_X),np.nanmin(ftest_X),np.nanmean(ftest_X),np.nanstd(ftest_X))"
   ]
  },
  {
   "cell_type": "code",
   "execution_count": null,
   "metadata": {},
   "outputs": [],
   "source": [
    "#Forecasting last X days for all models"
   ]
  },
  {
   "cell_type": "code",
   "execution_count": null,
   "metadata": {},
   "outputs": [],
   "source": [
    "all_preds = []\n",
    "for i in range(10):\n",
    "    print(\"\\nLoading model:\", i)\n",
    "    model = tf.keras.models.load_model(\"models/\"+ fname + \"_\" + str(i) +'.h5')\n",
    "    preds = model.predict(ftest_X)\n",
    "    scaler_y = load(open(\"models/\"+ fname + \"_scaler_tr_Y.pkl\", 'rb'))\n",
    "\n",
    "    preds_inv = scaler_y.inverse_transform(preds)\n",
    "    print(len(preds_inv), np.max(preds_inv), np.min(preds_inv))\n",
    "    print(preds_inv.shape)\n",
    "    all_preds.append(preds_inv)"
   ]
  },
  {
   "cell_type": "code",
   "execution_count": null,
   "metadata": {},
   "outputs": [],
   "source": [
    "all_preds_aux = np.stack((all_preds))\n",
    "print(all_preds_aux.shape)\n",
    "\n",
    "all_preds_aux[:,-1,:].mean(axis=0)\n",
    "all_preds_aux[:,-1,:].std(axis=0)"
   ]
  },
  {
   "cell_type": "code",
   "execution_count": null,
   "metadata": {},
   "outputs": [],
   "source": [
    "all_res = all_preds_aux[:,:all_preds_aux.shape[1]]\n",
    "for i in range(all_preds_aux.shape[1]-1,19,-1):\n",
    "    all_res = np.hstack((all_preds_aux[:,i,-1].reshape(10,1),all_res))\n",
    "    #print(all_res.shape)\n",
    "\n",
    "all_res = np.array(all_res)\n",
    "print(all_res.shape)"
   ]
  },
  {
   "cell_type": "code",
   "execution_count": null,
   "metadata": {},
   "outputs": [],
   "source": [
    "dfPreds = pd.DataFrame(np.hstack((all_res)).astype(int).reshape(10,21),\n",
    "                       columns=[\"d\"+str(i) for i in range(21)])\n",
    "dfPreds.astype(int).to_csv(\"preds_infected_21days\" + today + \".csv\",index=False)\n",
    "dfPreds.describe().T"
   ]
  },
  {
   "cell_type": "code",
   "execution_count": null,
   "metadata": {},
   "outputs": [],
   "source": [
    "import datetime\n",
    "import matplotlib.dates as mdates\n",
    "\n",
    "date_time_str = '2021-04-07' #######Last data collected day\n",
    "\n",
    "base = datetime.datetime.strptime(date_time_str, '%Y-%m-%d')\n",
    "date_list = [base + datetime.timedelta(days=x) for x in range(21)]"
   ]
  },
  {
   "cell_type": "code",
   "execution_count": null,
   "metadata": {},
   "outputs": [],
   "source": [
    "dfPredsT = dfPreds.T\n",
    "dfPredsT.reset_index(drop=True, inplace=True)\n",
    "dfPredsT[\"date\"] = date_list\n",
    "dfPredsT.head()"
   ]
  },
  {
   "cell_type": "code",
   "execution_count": null,
   "metadata": {},
   "outputs": [],
   "source": [
    "print(dfPredsT[[i for i in range(10)]].mean(axis=1).mean(axis=0))\n",
    "print(dfPredsT[[i for i in range(10)]].mean(axis=1).std(axis=0))\n",
    "print(np.mean(dfPredsT[[i for i in range(10)]].values),\n",
    "      np.std(dfPredsT[[i for i in range(10)]].values))"
   ]
  },
  {
   "cell_type": "code",
   "execution_count": null,
   "metadata": {},
   "outputs": [],
   "source": [
    "plt.figure(figsize=(10,4))\n",
    "ax = plt.subplot(1,1,1)\n",
    "ax.plot(dfPredsT[\"date\"], dfPredsT[[i for i in range(10)]])\n",
    "ax.xaxis.set_major_locator(mdates.DayLocator(interval=1))\n",
    "plt.title(\"Daily predicted infected cases\")\n",
    "plt.xticks(rotation='vertical')\n",
    "plt.ylim(500,3500)\n",
    "plt.show()\n",
    "\n",
    "plt.figure(figsize=(10,4))\n",
    "ax = plt.subplot(1,1,1)\n",
    "ax.errorbar(dfPredsT[\"date\"], \n",
    "            dfPredsT[[i for i in range(10)]].mean(axis=1),\n",
    "            yerr=dfPredsT[[i for i in range(10)]].std(axis=1))\n",
    "ax.fill_between(dfPredsT[\"date\"],\n",
    "                dfPredsT[[i for i in range(10)]].mean(axis=1)-dfPredsT[[i for i in range(10)]].std(axis=1),\n",
    "                dfPredsT[[i for i in range(10)]].mean(axis=1)+dfPredsT[[i for i in range(10)]].std(axis=1),\n",
    "                alpha=0.2)\n",
    "ax.xaxis.set_major_locator(mdates.DayLocator(interval=1))\n",
    "plt.title(\"Daily predicted infected cases\")\n",
    "plt.xticks(rotation='vertical')\n",
    "plt.ylim(500,3500)\n",
    "plt.show()"
   ]
  },
  {
   "cell_type": "code",
   "execution_count": null,
   "metadata": {},
   "outputs": [],
   "source": [
    "plt.figure(figsize=(15,4))\n",
    "ax = plt.subplot(1,1,1)\n",
    "ax.bar(dfPredsT[\"date\"].values, np.mean(dfPredsT[[i for i in range(10)]], axis=1), \n",
    "            yerr=np.std(dfPredsT[[i for i in range(10)]], axis=1), label=\"COVID-19 daily infected cases\")\n",
    "ax.xaxis.set_major_locator(mdates.DayLocator(interval=1))\n",
    "plt.title(\"Daily predicted infected cases\")\n",
    "plt.xticks(rotation='vertical')\n",
    "plt.legend()\n",
    "plt.show()"
   ]
  },
  {
   "cell_type": "code",
   "execution_count": null,
   "metadata": {},
   "outputs": [],
   "source": [
    "plt.figure(figsize=(10,4))\n",
    "ax = plt.subplot(1,1,1)\n",
    "ax.plot(dfPredsT[\"date\"], dfPredsT[[i for i in range(10)]].cumsum())\n",
    "ax.xaxis.set_major_locator(mdates.DayLocator(interval=1))\n",
    "plt.title(\"Daily predicted accumualted infected cases\")\n",
    "plt.xticks(rotation='vertical')\n",
    "plt.legend()\n",
    "plt.show()"
   ]
  },
  {
   "cell_type": "code",
   "execution_count": null,
   "metadata": {},
   "outputs": [],
   "source": [
    "plt.figure(figsize=(10,4))\n",
    "ax = plt.subplot(1,1,1)\n",
    "#ax.plot(dfPredsT[\"date\"], dfPredsT[[i for i in range(10)]].cumsum())\n",
    "ax.errorbar(dfPredsT[\"date\"], \n",
    "            dfPredsT[[i for i in range(10)]].cumsum().mean(axis=1),\n",
    "            yerr=dfPredsT[[i for i in range(10)]].cumsum().std(axis=1))\n",
    "ax.fill_between(dfPredsT[\"date\"],\n",
    "                dfPredsT[[i for i in range(10)]].cumsum().mean(axis=1)-dfPredsT[[i for i in range(10)]].cumsum().std(axis=1),\n",
    "                dfPredsT[[i for i in range(10)]].cumsum().mean(axis=1)+dfPredsT[[i for i in range(10)]].cumsum().std(axis=1),\n",
    "                alpha=0.2)\n",
    "ax.xaxis.set_major_locator(mdates.DayLocator(interval=1))\n",
    "plt.title(\"Daily predicted accumualted infected cases\")\n",
    "plt.xticks(rotation='vertical')\n",
    "plt.legend()\n",
    "plt.show()"
   ]
  },
  {
   "cell_type": "code",
   "execution_count": null,
   "metadata": {},
   "outputs": [],
   "source": [
    "from scipy.stats import gamma, poisson\n",
    "\n",
    "import epyestim\n",
    "import epyestim.covid19 as covid19"
   ]
  },
  {
   "cell_type": "code",
   "execution_count": null,
   "metadata": {},
   "outputs": [],
   "source": [
    "ch_cases = pd.read_csv(\n",
    "    \"data_flow/cases_CAT_\" + today + \".csv\",\n",
    "    parse_dates=['date']\n",
    ").set_index('date')['new_cases_BCN']\n"
   ]
  },
  {
   "cell_type": "code",
   "execution_count": null,
   "metadata": {},
   "outputs": [],
   "source": [
    "si_distrb = covid19.generate_standard_si_distribution()\n",
    "delay_distrb = covid19.generate_standard_infection_to_reporting_distribution()"
   ]
  },
  {
   "cell_type": "code",
   "execution_count": null,
   "metadata": {},
   "outputs": [],
   "source": [
    "fig, axs = plt.subplots(1, 2, figsize=(12,3))\n",
    "\n",
    "axs[0].bar(range(len(si_distrb)), si_distrb, width=1)\n",
    "axs[1].bar(range(len(delay_distrb)), delay_distrb, width=1)\n",
    "\n",
    "axs[0].set_title('Default serial interval distribution')\n",
    "axs[1].set_title('Default infection-to-reporting delay distribution')\n",
    "plt.show()"
   ]
  },
  {
   "cell_type": "code",
   "execution_count": null,
   "metadata": {},
   "outputs": [],
   "source": [
    "my_continuous_distrb = gamma(a=5, scale=2)\n",
    "my_discrete_distrb = epyestim.discrete_distrb(my_continuous_distrb)\n",
    "\n",
    "plt.bar(range(len(my_discrete_distrb)), my_discrete_distrb, width=1)\n",
    "plt.show()"
   ]
  },
  {
   "cell_type": "code",
   "execution_count": null,
   "metadata": {},
   "outputs": [],
   "source": [
    "ch_time_varying_r = covid19.r_covid(ch_cases)\n",
    "\n",
    "ch_time_varying_r.tail()"
   ]
  },
  {
   "cell_type": "code",
   "execution_count": null,
   "metadata": {},
   "outputs": [],
   "source": [
    "fig, ax = plt.subplots(1,1, figsize=(12, 4))\n",
    "\n",
    "ch_time_varying_r.loc[:,'Q0.5'].plot(ax=ax, color='red')\n",
    "ax.fill_between(ch_time_varying_r.index, \n",
    "                    ch_time_varying_r['Q0.025'], \n",
    "                    ch_time_varying_r['Q0.975'], \n",
    "                    color='red', alpha=0.2)\n",
    "ax.set_xlabel('date')\n",
    "ax.set_ylabel('R(t) with 95%-CI')\n",
    "ax.set_ylim([0,3])\n",
    "ax.axhline(y=1)\n",
    "ax.set_title('Estimate of time-varying effective reproduction number for Barcelona')\n",
    "plt.show()"
   ]
  },
  {
   "cell_type": "code",
   "execution_count": null,
   "metadata": {},
   "outputs": [],
   "source": [
    "ch_time_varying_r_ = covid19.r_covid(ch_cases, smoothing_window=21, r_window_size=7)"
   ]
  },
  {
   "cell_type": "code",
   "execution_count": null,
   "metadata": {},
   "outputs": [],
   "source": [
    "fig, ax = plt.subplots(1,1, figsize=(12, 4))\n",
    "\n",
    "ch_time_varying_r_.loc[:,'Q0.5'].plot(ax=ax, color='orange')\n",
    "ax.fill_between(ch_time_varying_r_.index, \n",
    "                    ch_time_varying_r_['Q0.025'], \n",
    "                    ch_time_varying_r_['Q0.975'], \n",
    "                    color='orange', alpha=0.2)\n",
    "ax.set_xlabel('date')\n",
    "ax.set_ylabel('R(t) with 95%-CI')\n",
    "ax.set_ylim([0,3])\n",
    "ax.axhline(y=1)\n",
    "ax.set_title('Estimate of time-varying effective reproduction number for Barcelona')\n",
    "plt.show()\n",
    "ch_time_varying_r.tail()"
   ]
  },
  {
   "cell_type": "code",
   "execution_count": null,
   "metadata": {},
   "outputs": [],
   "source": [
    "cases_pred = dfPredsT[[i for i in range(10)]].mean(axis=1)\n",
    "d = {'date': dfPredsT[\"date\"], 'cases': cases_pred}\n",
    "#print(d)\n",
    "#print(cases_pred)\n",
    "#print(dfPredsT)\n",
    "#tmp = [dfPredsT[\"date\"].values, cases_pred]\n",
    "ch_cases_pred = pd.DataFrame(data = d).set_index('date')\n",
    "print(type(ch_cases_pred))\n",
    "#ch_time_varying_r = covid19.r_covid(ch_cases_pred)\n",
    "#ch_time_varying_r.tail()\n",
    "#ch_cases_pred = pd.read_csv(\"predict_tmp.csv\",\n",
    "#                         parse_dates=['date']).set_index('date')['cases']"
   ]
  },
  {
   "cell_type": "code",
   "execution_count": null,
   "metadata": {},
   "outputs": [],
   "source": [
    "ch_time_varying = covid19.r_covid(ch_cases_pred.squeeze())"
   ]
  },
  {
   "cell_type": "code",
   "execution_count": null,
   "metadata": {},
   "outputs": [],
   "source": [
    "fig, ax = plt.subplots(1,1, figsize=(12, 4))\n",
    "\n",
    "ch_time_varying.loc[:,'Q0.5'].plot(ax=ax, color='orange')\n",
    "ax.fill_between(ch_time_varying.index, \n",
    "                    ch_time_varying['Q0.025'], \n",
    "                    ch_time_varying['Q0.975'], \n",
    "                    color='orange', alpha=0.2)\n",
    "ax.set_xlabel('date')\n",
    "ax.set_ylabel('R(t) with 95%-CI')\n",
    "ax.set_ylim([0.90,1.10])\n",
    "ax.axhline(y=1)\n",
    "ax.set_title('Estimate of time-varying effective reproduction number for Barcelona')\n",
    "plt.show()"
   ]
  },
  {
   "cell_type": "code",
   "execution_count": null,
   "metadata": {},
   "outputs": [],
   "source": [
    "print(ch_time_varying)"
   ]
  },
  {
   "cell_type": "code",
   "execution_count": null,
   "metadata": {},
   "outputs": [],
   "source": [
    "print((1.15-1.013)/1.15)"
   ]
  },
  {
   "cell_type": "code",
   "execution_count": null,
   "metadata": {},
   "outputs": [],
   "source": []
  }
 ],
 "metadata": {
  "kernelspec": {
   "display_name": "Python 3",
   "language": "python",
   "name": "python3"
  },
  "language_info": {
   "codemirror_mode": {
    "name": "ipython",
    "version": 3
   },
   "file_extension": ".py",
   "mimetype": "text/x-python",
   "name": "python",
   "nbconvert_exporter": "python",
   "pygments_lexer": "ipython3",
   "version": "3.8.10"
  }
 },
 "nbformat": 4,
 "nbformat_minor": 4
}
